{
  "nbformat": 4,
  "nbformat_minor": 0,
  "metadata": {
    "colab": {
      "provenance": [],
      "collapsed_sections": [],
      "authorship_tag": "ABX9TyP81EJ7iEq1H0eS4GCqxpO9",
      "include_colab_link": true
    },
    "kernelspec": {
      "name": "python3",
      "display_name": "Python 3"
    },
    "language_info": {
      "name": "python"
    }
  },
  "cells": [
    {
      "cell_type": "markdown",
      "metadata": {
        "id": "view-in-github",
        "colab_type": "text"
      },
      "source": [
        "<a href=\"https://colab.research.google.com/github/IBM-EPBL/IBM-Project-8352-1658915855/blob/main/Asgmt2.ipynb\" target=\"_parent\"><img src=\"https://colab.research.google.com/assets/colab-badge.svg\" alt=\"Open In Colab\"/></a>"
      ]
    },
    {
      "cell_type": "code",
      "source": [
        "import pandas as pd \n",
        "import numpy as np\n",
        "import sklearn as sk\n",
        "import seaborn as sns\n",
        "data=pd.read_csv(\"/content/Churn_Modelling Dataset2.csv\")\n",
        "df=data.head(10)\n",
        "#Univariate Analysis\n",
        "import matplotlib.pyplot as plt\n",
        "plt.bar (df['Age'],4)\n",
        "#Bivariate Analysis\n",
        "plt.scatter(df['Age'],df['CreditScore'])\n",
        "#Multivariate analysis\n",
        "plt.scatter(df['Age'],df['CreditScore'],df['Tenure'])\n",
        "#Descriptive statistics on the dataset\n",
        "data.describe()\n",
        "#Handling Missing values\n",
        "data.isnull().sum()\n",
        "#Find the outliers and replace the outliers\n",
        "\n",
        "#Finding Outliners\n",
        "sns.boxplot(data['Age'])\n",
        "#Replacing outliners\n",
        "q=data.quantile(q=[0.75,0.5])\n",
        "iqr=q.iloc[0]-q.iloc[1]\n",
        "iqr\n",
        "l=q.iloc[1]-(1.5*iqr)\n",
        "l['Age']\n",
        "u=q.iloc[1]+(1.5*iqr)\n",
        "u['Age']\n",
        "data['Age']=np.where(data['Age']>u['Age'],u['Age'],np.where(data['Age']<l['Age'],l['Age'],data['Age']))\n",
        "sns.boxplot(data['Age'])\n",
        "#Check for Categorical columns and perform encoding.\n",
        "df.info()\n",
        "from sklearn.preprocessing import LabelEncoder\n",
        "from collections import Counter as count\n",
        "le=LabelEncoder()\n",
        "data['Surname']=le.fit_transform(data['Surname'])\n",
        "data\n",
        "data['Geography']=le.fit_transform(data['Geography'])\n",
        "data['Gender']=data['Gender'].replace(['Male','Female'],[0,1])\n",
        "data\n",
        "#Split the data into dependent and independent variables.\n",
        "#Independent Variables\n",
        "x=data.iloc[:,0:13]\n",
        "x\n",
        "#Dependent Variables\n",
        "y=data['Exited']\n",
        "y\n",
        "#Scale the independent variables\n",
        "from sklearn.preprocessing import scale\n",
        "scale(x)\n",
        "#Split the data into training and testing\n",
        "from sklearn.model_selection import train_test_split\n",
        "x_train,x_test,y_train,y_test=train_test_split(x,y,test_size=0.2)\n",
        "x_train\n",
        "x_train.shape\n",
        "y_train\n",
        "y_train.shape\n",
        "x_test\n",
        "x_test.shape\n",
        "y_test\n",
        "y_test.shape"
      ],
      "metadata": {
        "id": "UhxqB1g13PP1"
      },
      "execution_count": null,
      "outputs": []
    },
    {
      "cell_type": "code",
      "source": [],
      "metadata": {
        "id": "NFQZghVE7Xpn"
      },
      "execution_count": null,
      "outputs": []
    }
  ]
}